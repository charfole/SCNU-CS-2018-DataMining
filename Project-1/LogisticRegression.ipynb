{
  "nbformat": 4,
  "nbformat_minor": 0,
  "metadata": {
    "colab": {
      "name": "LogisticRegression.ipynb",
      "provenance": [],
      "collapsed_sections": []
    },
    "kernelspec": {
      "name": "python3",
      "display_name": "Python 3"
    }
  },
  "cells": [
    {
      "cell_type": "code",
      "metadata": {
        "id": "bMl0xozT-Zre"
      },
      "source": [
        "import pandas as pd\n",
        "import numpy as np\n",
        "from sklearn.linear_model import LogisticRegression\n",
        "from sklearn import metrics\n",
        "import matplotlib.pyplot as plt\n",
        "from sklearn.model_selection import GridSearchCV\n",
        "from sklearn.metrics import precision_score,recall_score,f1_score,roc_auc_score,roc_curve,accuracy_score\n",
        "from sklearn.metrics import confusion_matrix,plot_confusion_matrix,roc_curve,auc,plot_roc_curve\n",
        "from sklearn.model_selection import cross_val_score"
      ],
      "execution_count": null,
      "outputs": []
    },
    {
      "cell_type": "code",
      "metadata": {
        "id": "VZ6C__3sChr3",
        "colab": {
          "base_uri": "https://localhost:8080/"
        },
        "outputId": "e5d1c535-5727-4412-ef25-b724e28e1534"
      },
      "source": [
        "# 数据读取\n",
        "train_data = pd.read_excel(\"/content/drive/MyDrive/DataMining/Churn/churn_train_scale.xlsx\")\n",
        "# train_data = pd.read_excel(\"/content/drive/MyDrive/DataMining/Churn/churn_training.xlsx\")\n",
        "\n",
        "print(train_data)\n",
        "test_data = pd.read_excel(\"/content/drive/MyDrive/DataMining/Churn/churn_test_scale.xlsx\")\n",
        "# test_data = pd.read_excel(\"/content/drive/MyDrive/DataMining/Churn/churn_test.xlsx\")\n",
        "print(test_data)"
      ],
      "execution_count": null,
      "outputs": [
        {
          "output_type": "stream",
          "text": [
            "      account_length  international_plan  ...  number_customer_service_calls  class\n",
            "0           0.698242           -0.345245  ...                      -0.443639      0\n",
            "1          -0.416035            2.896493  ...                       0.341622      0\n",
            "2          -0.643955            2.896493  ...                       1.126882      0\n",
            "3           0.444997            2.896493  ...                      -1.228899      0\n",
            "4           0.419673           -0.345245  ...                      -0.443639      0\n",
            "...              ...                 ...  ...                            ...    ...\n",
            "1995       -0.542657           -0.345245  ...                       0.341622      0\n",
            "1996       -0.821226           -0.345245  ...                       1.126882      0\n",
            "1997       -1.834205           -0.345245  ...                       0.341622      0\n",
            "1998        2.116413            2.896493  ...                       0.341622      0\n",
            "1999       -0.669280           -0.345245  ...                      -1.228899      0\n",
            "\n",
            "[2000 rows x 18 columns]\n",
            "             0         1         2  ...        15        16  class\n",
            "0     1.977243 -0.246120 -0.630742  ... -0.221368  0.437740      1\n",
            "1     0.697918  4.063062 -0.630742  ...  2.362148  2.890826      1\n",
            "2    -0.286179  4.063062  1.585435  ...  1.102846 -1.197651      1\n",
            "3     0.870135  4.063062 -0.630742  ...  1.414426 -1.197651      1\n",
            "4     1.460592 -0.246120 -0.630742  ... -1.493653  2.073131      1\n",
            "...        ...       ...       ...  ...       ...       ...    ...\n",
            "1028  1.165364 -0.246120  1.585435  ... -1.272950 -1.197651      0\n",
            "1029 -1.221070 -0.246120 -0.630742  ...  0.505651  0.437740      0\n",
            "1030  1.411388 -0.246120 -0.630742  ...  0.505651 -0.379955      0\n",
            "1031 -0.581408 -0.246120 -0.630742  ... -0.299263  0.437740      0\n",
            "1032  2.223267 -0.246120  1.585435  ... -0.091544  0.437740      0\n",
            "\n",
            "[1033 rows x 18 columns]\n"
          ],
          "name": "stdout"
        }
      ]
    },
    {
      "cell_type": "code",
      "metadata": {
        "id": "ZJEiqkDcDMr5",
        "colab": {
          "base_uri": "https://localhost:8080/"
        },
        "outputId": "e158c3ef-df92-4862-a9a3-49cbcef55a94"
      },
      "source": [
        "# 数据划分\n",
        "train_x = train_data.iloc[:,:-1]\n",
        "train_y = train_data.iloc[:,-1]\n",
        "test_x = test_data.iloc[:,:-1]\n",
        "test_y = test_data.iloc[:,-1]\n",
        "print(train_y.shape)\n",
        "print(test_x.shape)"
      ],
      "execution_count": null,
      "outputs": [
        {
          "output_type": "stream",
          "text": [
            "(2000,)\n",
            "(1033, 17)\n"
          ],
          "name": "stdout"
        }
      ]
    },
    {
      "cell_type": "code",
      "metadata": {
        "colab": {
          "base_uri": "https://localhost:8080/",
          "height": 447
        },
        "id": "0Qoabn5iUQvZ",
        "outputId": "508edb75-cc6c-42db-bdab-ccb6d65a34c8"
      },
      "source": [
        "base_LR = LogisticRegression()\r\n",
        "base_LR.fit(train_x,train_y)\r\n",
        "base_predict_y = base_LR.predict(test_x)\r\n",
        "\r\n",
        "print(base_LR)\r\n",
        "print('准确率:',accuracy_score(test_y,base_predict_y))\r\n",
        "print('精准率:',precision_score(test_y,base_predict_y))\r\n",
        "print('召回率:',recall_score(test_y,base_predict_y))\r\n",
        "print('F1率:',f1_score(test_y,base_predict_y))\r\n",
        "print(metrics.plot_roc_curve(base_LR,test_x,test_y))"
      ],
      "execution_count": null,
      "outputs": [
        {
          "output_type": "stream",
          "text": [
            "LogisticRegression(C=1000, class_weight=None, dual=False, fit_intercept=True,\n",
            "                   intercept_scaling=1, l1_ratio=None, max_iter=100,\n",
            "                   multi_class='auto', n_jobs=None, penalty='l2',\n",
            "                   random_state=None, solver='lbfgs', tol=0.0001, verbose=0,\n",
            "                   warm_start=False)\n",
            "准确率: 0.9196515004840271\n",
            "精准率: 0.2222222222222222\n",
            "召回率: 0.37209302325581395\n",
            "F1率: 0.27826086956521734\n",
            "<sklearn.metrics._plot.roc_curve.RocCurveDisplay object at 0x7fa1c3469780>\n"
          ],
          "name": "stdout"
        },
        {
          "output_type": "display_data",
          "data": {
            "image/png": "[encoded data removed]",
            "text/plain": [
              "<Figure size 432x288 with 1 Axes>"
            ]
          },
          "metadata": {
            "tags": [],
            "needs_background": "light"
          }
        }
      ]
    },
    {
      "cell_type": "code",
      "metadata": {
        "colab": {
          "base_uri": "https://localhost:8080/",
          "height": 279
        },
        "id": "QInAFBwxVx5K",
        "outputId": "c6fe4779-eeaa-4fba-959a-8e4768f0b456"
      },
      "source": [
        "plot_confusion_matrix(base_LR,test_x,test_y)\r\n",
        "plt.savefig('LR_Confusion_Matrix.png',dpi=500)"
      ],
      "execution_count": null,
      "outputs": [
        {
          "output_type": "display_data",
          "data": {
            "image/png": "[encoded data removed]",
            "text/plain": [
              "<Figure size 432x288 with 2 Axes>"
            ]
          },
          "metadata": {
            "tags": [],
            "needs_background": "light"
          }
        }
      ]
    },
    {
      "cell_type": "code",
      "metadata": {
        "id": "w6RQNLDeZf9j"
      },
      "source": [
        "# 绘制一下ROC曲线\r\n",
        "fpr, tpr, thresholds = metrics.roc_curve(test_y, predict_y, pos_label=1)\r\n",
        "print('fpr: {}\\n tpr: {}'.format(fpr, tpr))"
      ],
      "execution_count": null,
      "outputs": []
    },
    {
      "cell_type": "code",
      "metadata": {
        "id": "9uyhfJ_0AKi2"
      },
      "source": [
        "param_dict_1 = [\n",
        "  {\n",
        "    'C':[1,5,10,50,100,1000],\n",
        "    'penalty':['l1','l2'],\n",
        "    'solver':['saga'],\n",
        "    'multi_class':['auto','ovr','multinomial'],\n",
        "  },\n",
        "  {\n",
        "    'C':[1,5,10,50,100,1000],\n",
        "    'penalty':['elasticnet'],\n",
        "    'l1_ratio': [0.5],\n",
        "    'solver':['saga'],\n",
        "    'multi_class':['auto','ovr','multinomial'],\n",
        "  },\n",
        "  {\n",
        "    'C':[1,5,10,50,100,1000],\n",
        "    'penalty':['l1','l2'],\n",
        "    'solver':['liblinear'],\n",
        "  },\n",
        "  {\n",
        "    'C':[1,5,10,50,100,1000],\n",
        "    'penalty':['l2'],\n",
        "    'solver':['lbfgs','newton-cg','sag'],\n",
        "    'multi_class':['auto','ovr','multinomial'],\n",
        "  },\n",
        "]\n",
        "\n",
        "best_LR = GridSearchCV(LogisticRegression(max_iter=50000),param_dict_1,cv=5,scoring='f1')\n",
        "best_LR.fit(train_x,train_y)\n",
        "predict_y = best_LR.predict(test_x)"
      ],
      "execution_count": null,
      "outputs": []
    },
    {
      "cell_type": "code",
      "metadata": {
        "id": "3Nj2Vh6mWDAS"
      },
      "source": [
        "print(best_LR.best_params_)\n",
        "print('准确率:',accuracy_score(test_y,predict_y))\n",
        "print('精准率:',precision_score(test_y,predict_y))\n",
        "print('召回率:',recall_score(test_y,predict_y))\n",
        "print('F1率:',f1_score(test_y,predict_y))\n",
        "print(metrics.plot_roc_curve(best_LR,test_x,test_y))"
      ],
      "execution_count": null,
      "outputs": []
    },
    {
      "cell_type": "code",
      "metadata": {
        "colab": {
          "base_uri": "https://localhost:8080/",
          "height": 279
        },
        "id": "795j9EezXguu",
        "outputId": "d78889de-6456-47bc-98b4-2723a1d2aa77"
      },
      "source": [
        "plot_confusion_matrix(best_LR,test_x,test_y)\n",
        "plt.savefig('LR_Confusion_Matrix.png',dpi=500)"
      ],
      "execution_count": null,
      "outputs": [
        {
          "output_type": "display_data",
          "data": {
            "image/png": "[encoded data removed]",
            "text/plain": [
              "<Figure size 432x288 with 2 Axes>"
            ]
          },
          "metadata": {
            "tags": [],
            "needs_background": "light"
          }
        }
      ]
    },
    {
      "cell_type": "code",
      "metadata": {
        "colab": {
          "base_uri": "https://localhost:8080/",
          "height": 312
        },
        "id": "dE7DlqxdZku_",
        "outputId": "7b467d70-4870-46a3-8867-8c35e7cfcc98"
      },
      "source": [
        "# 计算AUC\r\n",
        "auc = metrics.auc(fpr, tpr)\r\n",
        "print('auc: ', auc)\r\n",
        "plt.figure()\r\n",
        "\r\n",
        "lw = 2\r\n",
        "plt.plot(fpr, tpr, color='darkorange',\r\n",
        "         lw=lw, label='ROC curve (area = {:.2f})'.format(auc))\r\n",
        "plt.xlim([0.0, 1.0])\r\n",
        "plt.ylim([0.0, 1.05])\r\n",
        "plt.xlabel('False Positive Rate')\r\n",
        "plt.ylabel('True Positive Rate')\r\n",
        "plt.title('Receiver operating characteristic example')\r\n",
        "plt.legend(loc=\"lower right\")\r\n",
        "plt.show()"
      ],
      "execution_count": null,
      "outputs": [
        {
          "output_type": "stream",
          "text": [
            "auc:  0.6577636833450786\n"
          ],
          "name": "stdout"
        },
        {
          "output_type": "display_data",
          "data": {
            "image/png": "[encoded data removed]",
            "text/plain": [
              "<Figure size 432x288 with 1 Axes>"
            ]
          },
          "metadata": {
            "tags": [],
            "needs_background": "light"
          }
        }
      ]
    },
    {
      "cell_type": "code",
      "metadata": {
        "colab": {
          "base_uri": "https://localhost:8080/"
        },
        "id": "1iXAS44ooxR9",
        "outputId": "312e2ec0-e6be-4846-f6e1-543bd35464cb"
      },
      "source": [
        "# 绘制一下ROC曲线\n",
        "fpr, tpr, thresholds = metrics.roc_curve(test_y, base_predict_y, pos_label=1)\n",
        "print('fpr: {}\\n tpr: {}'.format(fpr, tpr))"
      ],
      "execution_count": null,
      "outputs": [
        {
          "output_type": "stream",
          "text": [
            "fpr: [0.         0.05656566 1.        ]\n",
            " tpr: [0.         0.37209302 1.        ]\n"
          ],
          "name": "stdout"
        }
      ]
    },
    {
      "cell_type": "code",
      "metadata": {
        "colab": {
          "base_uri": "https://localhost:8080/"
        },
        "id": "Pdo3jY2_opNH",
        "outputId": "df3de174-80f6-4995-ce2e-394981719556"
      },
      "source": [
        "# 输出混淆矩阵\n",
        "confusion_matrix = metrics.confusion_matrix(test_y, predict_y)\n",
        "print(confusion_matrix)\n",
        "y_true, y_pred = test_y, best_LR.predict(test_x)\n",
        "print(metrics.classification_report(y_true, y_pred))"
      ],
      "execution_count": null,
      "outputs": [
        {
          "output_type": "stream",
          "text": [
            "[[936  54]\n",
            " [ 27  16]]\n",
            "              precision    recall  f1-score   support\n",
            "\n",
            "           0       0.97      0.95      0.96       990\n",
            "           1       0.23      0.37      0.28        43\n",
            "\n",
            "    accuracy                           0.92      1033\n",
            "   macro avg       0.60      0.66      0.62      1033\n",
            "weighted avg       0.94      0.92      0.93      1033\n",
            "\n"
          ],
          "name": "stdout"
        }
      ]
    },
    {
      "cell_type": "code",
      "metadata": {
        "colab": {
          "base_uri": "https://localhost:8080/",
          "height": 312
        },
        "id": "hInND9EKovGa",
        "outputId": "d8d8fe83-d8c6-4dd6-ebd6-974383c782d9"
      },
      "source": [
        "# 计算AUC\n",
        "auc = metrics.auc(fpr, tpr)\n",
        "print('auc: ', auc)\n",
        "plt.figure()\n",
        "\n",
        "lw = 2\n",
        "plt.plot(fpr, tpr, color='darkorange',\n",
        "         lw=lw, label='ROC curve (area = {:.2f})'.format(auc))\n",
        "plt.xlim([0.0, 1.0])\n",
        "plt.ylim([0.0, 1.05])\n",
        "plt.xlabel('False Positive Rate')\n",
        "plt.ylabel('True Positive Rate')\n",
        "plt.title('Receiver operating characteristic example')\n",
        "plt.legend(loc=\"lower right\")\n",
        "plt.show()"
      ],
      "execution_count": null,
      "outputs": [
        {
          "output_type": "stream",
          "text": [
            "auc:  0.6587737843551796\n"
          ],
          "name": "stdout"
        },
        {
          "output_type": "display_data",
          "data": {
            "image/png": "[encoded data removed]",
            "text/plain": [
              "<Figure size 432x288 with 1 Axes>"
            ]
          },
          "metadata": {
            "tags": [],
            "needs_background": "light"
          }
        }
      ]
    }
  ]
}