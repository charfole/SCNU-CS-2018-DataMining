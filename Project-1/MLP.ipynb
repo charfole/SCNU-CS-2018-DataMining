{
  "nbformat": 4,
  "nbformat_minor": 0,
  "metadata": {
    "colab": {
      "name": "project1-2.ipynb",
      "provenance": [],
      "collapsed_sections": []
    },
    "kernelspec": {
      "name": "python3",
      "display_name": "Python 3"
    }
  },
  "cells": [
    {
      "cell_type": "code",
      "metadata": {
        "id": "s1UnRnSCXnMM"
      },
      "source": [
        "import matplotlib.pyplot as plt\n",
        "import pandas as pd\n",
        "from sklearn.model_selection import train_test_split\n",
        "from sklearn.metrics import f1_score,recall_score,precision_score,accuracy_score\n",
        "from sklearn.neural_network import MLPClassifier\n",
        "from sklearn.metrics import confusion_matrix,plot_confusion_matrix,roc_curve,auc,plot_roc_curve\n",
        "from sklearn.model_selection import cross_val_score\n",
        "from sklearn.model_selection import GridSearchCV"
      ],
      "execution_count": null,
      "outputs": []
    },
    {
      "cell_type": "code",
      "metadata": {
        "id": "s6f2wBWsDEwS"
      },
      "source": [
        "# 加载数据集\n",
        "train_data = pd.read_excel('/content/drive/MyDrive/churn_training_scale.xlsx')\n",
        "test_data= pd.read_excel('/content/drive/MyDrive/churn_test_scale.xlsx')\n",
        "\n",
        "X_train=train_data.iloc[:,:-1]\n",
        "y_train=train_data.iloc[:,-1]\n",
        "X_test=test_data.iloc[:,:-1]\n",
        "y_test=test_data.iloc[:,-1]"
      ],
      "execution_count": null,
      "outputs": []
    },
    {
      "cell_type": "code",
      "metadata": {
        "id": "5_Wx4tULFrQO"
      },
      "source": [
        "\n",
        "# 激活函数：'identity', 'logistic', 'relu', 'softmax', 'tanh'\n",
        "# 优化算法：lbfgs, sgd, adam。默认adam适用于较大的数据集，lbfgs适用于较小的数据集。\n",
        "parameters=dict(hidden_layer_sizes=[10,50,100,150],\n",
        "        activation=['identity','logistic','relu','tanh'],\n",
        "        learning_rate_init=[0.1,0.01,0.001,0.0001],\n",
        "        )\n",
        "\n",
        "clf = MLPClassifier(random_state=1)\n",
        "grid = GridSearchCV(clf, parameters, cv=5, scoring='f1')\n",
        "grid.fit(X_train, y_train)\n",
        "print(grid.best_params_) #{'activation': 'relu', 'hidden_layer_sizes': 10, 'learning_rate_init': 0.1}"
      ],
      "execution_count": null,
      "outputs": []
    },
    {
      "cell_type": "code",
      "metadata": {
        "colab": {
          "base_uri": "https://localhost:8080/"
        },
        "id": "mUMKb6MVwzL6",
        "outputId": "6b254b24-c328-4a73-9421-eb23dba9048c"
      },
      "source": [
        "y_pred=grid.predict(X_test)\n",
        "\n",
        "print('准确率:',accuracy_score(y_test,y_pred))\n",
        "print('精准率:',precision_score(y_test,y_pred))\n",
        "print('召回率:',recall_score(y_test,y_pred))\n",
        "print('F1:',f1_score(y_test,y_pred))"
      ],
      "execution_count": null,
      "outputs": [
        {
          "output_type": "stream",
          "text": [
            "准确率: 0.9641819941916747\n",
            "精准率: 0.5454545454545454\n",
            "召回率: 0.8372093023255814\n",
            "F1: 0.6605504587155963\n"
          ],
          "name": "stdout"
        }
      ]
    },
    {
      "cell_type": "code",
      "metadata": {
        "colab": {
          "base_uri": "https://localhost:8080/",
          "height": 296
        },
        "id": "TRqB5zQRaMgj",
        "outputId": "d34bdabb-c25c-4973-e54c-5c0dc4c812cd"
      },
      "source": [
        "plot_confusion_matrix(grid,X_test, y_test)"
      ],
      "execution_count": null,
      "outputs": [
        {
          "output_type": "execute_result",
          "data": {
            "text/plain": [
              "<sklearn.metrics._plot.confusion_matrix.ConfusionMatrixDisplay at 0x7f85293f4240>"
            ]
          },
          "metadata": {
            "tags": []
          },
          "execution_count": 8
        },
        {
          "output_type": "display_data",
          "data": {
            "image/png": "[encoded data removed]",
            "text/plain": [
              "<Figure size 432x288 with 2 Axes>"
            ]
          },
          "metadata": {
            "tags": [],
            "needs_background": "light"
          }
        }
      ]
    },
    {
      "cell_type": "code",
      "metadata": {
        "colab": {
          "base_uri": "https://localhost:8080/",
          "height": 296
        },
        "id": "zNScGLEaaa1n",
        "outputId": "62e9c657-2ad2-48e7-d8cb-b37af1d21cfd"
      },
      "source": [
        "fpr, tpr, thresholds=roc_curve(grid.predict(X_test),y_test)\n",
        "plot_roc_curve(grid,X_test,y_test)\n",
        "print('auc(fpr,tpr)：',auc(fpr,tpr))"
      ],
      "execution_count": null,
      "outputs": [
        {
          "output_type": "stream",
          "text": [
            "auc(fpr,tpr)： 0.7691078311554009\n"
          ],
          "name": "stdout"
        },
        {
          "output_type": "display_data",
          "data": {
            "image/png": "[encoded data removed]",
            "text/plain": [
              "<Figure size 432x288 with 1 Axes>"
            ]
          },
          "metadata": {
            "tags": [],
            "needs_background": "light"
          }
        }
      ]
    },
    {
      "cell_type": "code",
      "metadata": {
        "colab": {
          "base_uri": "https://localhost:8080/"
        },
        "id": "hbFwtojHuypa",
        "outputId": "987c4278-e2af-48da-faa0-b124aaa52728"
      },
      "source": [
        "clf = MLPClassifier(activation='tanh',hidden_layer_sizes=140,max_iter=2000)\n",
        "clf.fit(X_train, y_train)\n",
        "\n",
        "y_pred=clf.predict(X_test)\n",
        "\n",
        "print('准确率:',accuracy_score(y_test,y_pred))\n",
        "print('精准率:',precision_score(y_test,y_pred))\n",
        "print('召回率:',recall_score(y_test,y_pred))\n",
        "print('F1:',f1_score(y_test,y_pred))"
      ],
      "execution_count": null,
      "outputs": [
        {
          "output_type": "stream",
          "text": [
            "准确率: 0.9370764762826719\n",
            "精准率: 0.36904761904761907\n",
            "召回率: 0.7209302325581395\n",
            "F1: 0.4881889763779528\n"
          ],
          "name": "stdout"
        }
      ]
    },
    {
      "cell_type": "code",
      "metadata": {
        "colab": {
          "base_uri": "https://localhost:8080/"
        },
        "id": "VWNM1MlL--5t",
        "outputId": "a31e1378-0fdb-4490-89c5-412273df441f"
      },
      "source": [
        "print(cross_val_score(clf,X_train,y_train,cv=10,scoring='f1'))"
      ],
      "execution_count": null,
      "outputs": [
        {
          "output_type": "stream",
          "text": [
            "[0.54901961 0.64150943 0.6        0.55555556 0.6122449  0.65384615\n",
            " 0.68965517 0.54901961 0.56521739 0.55555556]\n"
          ],
          "name": "stdout"
        }
      ]
    },
    {
      "cell_type": "code",
      "metadata": {
        "colab": {
          "base_uri": "https://localhost:8080/",
          "height": 296
        },
        "id": "P47H7CXCu9Qi",
        "outputId": "2cb6c8bc-c344-4209-f013-6c500a06d0f4"
      },
      "source": [
        "plot_confusion_matrix(clf,X_test, y_test)"
      ],
      "execution_count": null,
      "outputs": [
        {
          "output_type": "execute_result",
          "data": {
            "text/plain": [
              "<sklearn.metrics._plot.confusion_matrix.ConfusionMatrixDisplay at 0x7fbd19ea1940>"
            ]
          },
          "metadata": {
            "tags": []
          },
          "execution_count": 6
        },
        {
          "output_type": "display_data",
          "data": {
            "image/png": "[encoded data removed]",
            "text/plain": [
              "<Figure size 432x288 with 2 Axes>"
            ]
          },
          "metadata": {
            "tags": [],
            "needs_background": "light"
          }
        }
      ]
    },
    {
      "cell_type": "code",
      "metadata": {
        "colab": {
          "base_uri": "https://localhost:8080/",
          "height": 296
        },
        "id": "Yof2nT5hmQgS",
        "outputId": "0f273e89-9e1a-4c7b-e4a6-269878f61488"
      },
      "source": [
        "fpr, tpr, thresholds=roc_curve(clf.predict(X_test),y_test)\n",
        "plot_roc_curve(clf,X_test,y_test)\n",
        "print(auc(fpr,tpr))"
      ],
      "execution_count": null,
      "outputs": [
        {
          "output_type": "stream",
          "text": [
            "0.7976215738284704\n"
          ],
          "name": "stdout"
        },
        {
          "output_type": "display_data",
          "data": {
            "image/png": "[encoded data removed]",
            "text/plain": [
              "<Figure size 432x288 with 1 Axes>"
            ]
          },
          "metadata": {
            "tags": [],
            "needs_background": "light"
          }
        }
      ]
    },
    {
      "cell_type": "code",
      "metadata": {
        "id": "V8NNSlB8PguG"
      },
      "source": [
        "# from sklearn.preprocessing import StandardScaler\n",
        "# scaler = StandardScaler()\n",
        "# o_train_data = pd.read_excel('/content/drive/MyDrive/churn_training.xlsx')\n",
        "# #except state, area_code, and phone_number\n",
        "# X=o_train_data.iloc[:,:-1]\n",
        "# y=o_train_data.iloc[:,-1]\n",
        "# X_train, X_test, y_train, y_test = train_test_split(X, y, test_size=0.2, random_state=0)\n",
        "\n",
        "# # Don't cheat - fit only on training data\n",
        "# scaler.fit(X_train)\n",
        "# X_train = scaler.transform(X_train)\n",
        "# # apply same transformation to test data\n",
        "# X_test = scaler.transform(X_test)\n",
        "\n",
        "# clf = MLPClassifier()\n",
        "# #训练模型\n",
        "# clf.fit(X_train, y_train)\n",
        "# print(clf.score(X_test, y_test))"
      ],
      "execution_count": null,
      "outputs": []
    },
    {
      "cell_type": "code",
      "metadata": {
        "id": "jU4wLxjUTtDE",
        "colab": {
          "base_uri": "https://localhost:8080/"
        },
        "outputId": "03d4249a-d6fe-4ee4-d402-62d1c6d6e7eb"
      },
      "source": [
        "clf = MLPClassifier()\r\n",
        "clf.fit(X_train, y_train)\r\n",
        "\r\n",
        "y_pred=clf.predict(X_test)\r\n",
        "\r\n",
        "print('准确率:',accuracy_score(y_test,y_pred))\r\n",
        "print('精准率:',precision_score(y_test,y_pred))\r\n",
        "print('召回率:',recall_score(y_test,y_pred))\r\n",
        "print('F1:',f1_score(y_test,y_pred))"
      ],
      "execution_count": null,
      "outputs": [
        {
          "output_type": "stream",
          "text": [
            "准确率: 0.957405614714424\n",
            "精准率: 0.4931506849315068\n",
            "召回率: 0.8372093023255814\n",
            "F1: 0.6206896551724138\n"
          ],
          "name": "stdout"
        },
        {
          "output_type": "stream",
          "text": [
            "/usr/local/lib/python3.6/dist-packages/sklearn/neural_network/_multilayer_perceptron.py:571: ConvergenceWarning: Stochastic Optimizer: Maximum iterations (200) reached and the optimization hasn't converged yet.\n",
            "  % self.max_iter, ConvergenceWarning)\n"
          ],
          "name": "stderr"
        }
      ]
    }
  ]
}