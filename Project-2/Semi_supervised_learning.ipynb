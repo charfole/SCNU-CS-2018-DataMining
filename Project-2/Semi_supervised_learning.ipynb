{
  "nbformat": 4,
  "nbformat_minor": 0,
  "metadata": {
    "colab": {
      "name": "Semi-supervised learning.ipynb",
      "provenance": [],
      "collapsed_sections": [],
      "toc_visible": true
    },
    "kernelspec": {
      "name": "python3",
      "display_name": "Python 3"
    }
  },
  "cells": [
    {
      "cell_type": "markdown",
      "metadata": {
        "id": "Jsj01qJx8UsW"
      },
      "source": [
        "# 导入数据及转为array形式"
      ]
    },
    {
      "cell_type": "code",
      "metadata": {
        "id": "MelyMY9M2aGw"
      },
      "source": [
        "import pandas as pd\n",
        "import numpy as np\n",
        "\n",
        "LassoClassificationFeature = pd.read_excel('./data/分类数据集.xlsx')\n",
        "RandomForestLogisticsFeature = pd.read_excel('./data/回归数据集.xlsx')\n",
        "\n",
        "tempArray_Lasso = np.array(LassoClassificationFeature)\n",
        "tempArray_RandomForest = np.array(RandomForestLogisticsFeature)\n",
        "\n"
      ],
      "execution_count": 1,
      "outputs": []
    },
    {
      "cell_type": "markdown",
      "metadata": {
        "id": "wFn9yXObhw9L"
      },
      "source": [
        "# 半监督学习——分类"
      ]
    },
    {
      "cell_type": "code",
      "metadata": {
        "colab": {
          "base_uri": "https://localhost:8080/"
        },
        "id": "gQIOm6oIRrff",
        "outputId": "5b83a4d4-7f3b-4617-e405-d4ed20970208"
      },
      "source": [
        "# coding:utf-8\r\n",
        "import random\r\n",
        "import numpy as np\r\n",
        "import sklearn.svm as svm\r\n",
        "from sklearn.datasets.samples_generator import make_classification\r\n",
        "from sklearn.externals import joblib\r\n",
        "import warnings; warnings.filterwarnings(action='ignore')\r\n",
        "\r\n",
        "class TSVM(object):\r\n",
        "    def __init__(self, kernel='linear'):\r\n",
        "        self.Cl, self.Cu = 1.5, 0.001\r\n",
        "        self.kernel = kernel\r\n",
        "        self.clf = svm.SVC(C=1.5, kernel=self.kernel)\r\n",
        "\r\n",
        "    def train(self, X1, Y1, X2):\r\n",
        "        N = len(X1) + len(X2)\r\n",
        "        # 样本权值初始化\r\n",
        "        sample_weight = np.ones(N)\r\n",
        "        sample_weight[len(X1):] = self.Cu\r\n",
        "\r\n",
        "        # 用已标注部分训练出一个初始SVM\r\n",
        "        self.clf.fit(X1, Y1)\r\n",
        "        \r\n",
        "        # 对未标记样本进行标记\r\n",
        "        Y2 = self.clf.predict(X2)\r\n",
        "        Y2 = Y2.reshape(-1,1)\r\n",
        "        \r\n",
        "        X = np.vstack([X1, X2])\r\n",
        "        Y = np.vstack([Y1, Y2])\r\n",
        "        \r\n",
        "        # 未标记样本的序号\r\n",
        "        Y2_id = np.arange(len(X2))\r\n",
        "        \r\n",
        "        while self.Cu < self.Cl:\r\n",
        "            # 重新训练SVM, 之后再寻找易出错样本不断调整\r\n",
        "            self.clf.fit(X, Y, sample_weight=sample_weight)\r\n",
        "            while True:\r\n",
        "                # print(X2)\r\n",
        "                print(type(X2))\r\n",
        "                Y2_decision = self.clf.decision_function(X2)   # 参数实例到决策超平面的距离\r\n",
        "                Y2 = Y2.reshape(-1)\r\n",
        "                print(len(Y2))\r\n",
        "                print(Y2_decision)\r\n",
        "                epsilon = 1 - Y2 * Y2_decision\r\n",
        "                negative_max_id = Y2_id[epsilon==min(epsilon)]\r\n",
        "\r\n",
        "                print(epsilon[negative_max_id][0])\r\n",
        "                if epsilon[negative_max_id][0] > 0:\r\n",
        "                    # 寻找很可能错误的未标记样本，改变它的标记成其他标记\r\n",
        "                    pool = list(set(np.unique(Y1))-set(Y2[negative_max_id]))\r\n",
        "                    Y2[negative_max_id] = random.choice(pool)\r\n",
        "                    Y2 = Y2.reshape(-1, 1)\r\n",
        "                    Y = np.vstack([Y1, Y2])\r\n",
        "                    \r\n",
        "                    self.clf.fit(X, Y, sample_weight=sample_weight)\r\n",
        "                else:\r\n",
        "                    break\r\n",
        "            self.Cu = min(2*self.Cu, self.Cl)\r\n",
        "            sample_weight[len(X1):] = self.Cu\r\n",
        "\r\n",
        "    def score(self, X, Y):\r\n",
        "        return self.clf.score(X, Y)\r\n",
        "\r\n",
        "    def predict(self, X):\r\n",
        "        return self.clf.predict(X)\r\n",
        "\r\n",
        "    def save(self, path='./TSVM.model'):\r\n",
        "        joblib.dump(self.clf, path)\r\n",
        "\r\n",
        "    def load(self, model_path='./TSVM.model'):\r\n",
        "        self.clf = joblib.load(model_path)\r\n",
        "\r\n",
        "    def plot_confusion_matrix(self, X, Y):\r\n",
        "        plot_confusion_matrix(self.clf,X,Y)\r\n",
        "\r\n",
        "if __name__ == '__main__':\r\n",
        "    tempArray = np.array(tempArray_Lasso)[:,:]\r\n",
        "\r\n",
        "    #43很好\r\n",
        "    split_num = 92\r\n",
        "\r\n",
        "    #18效果还可以25：f1_score: 0.7692307692307692\r\n",
        "    test_num = 25\r\n",
        "\r\n",
        "    train_data = tempArray[test_num:split_num,5:]\r\n",
        "    train_labels = np.array(np.array(tempArray)[test_num:split_num,4].astype(int)).reshape(-1,1)\r\n",
        "\r\n",
        "    test_data = tempArray[:test_num,5:]\r\n",
        "    test_labels = np.array(np.array(tempArray)[:test_num,4].astype(int)).reshape(-1,1)\r\n",
        "\r\n",
        "    X2 = tempArray[split_num:,5:]\r\n",
        "    Y2_labeled = np.array(np.array(tempArray)[split_num:,4].astype(int)).reshape(-1,1)\r\n",
        "\r\n",
        "    model = TSVM()\r\n",
        "    model.train(train_data, train_labels, X2)\r\n",
        "\r\n",
        "    # Y2_hat = model.predict(X2)\r\n",
        "    accuracy = model.score(test_data, test_labels)\r\n",
        "    print(accuracy)\r\n",
        "    \r\n",
        "    pred = np.array(model.predict(test_data)).reshape(-1,1)"
      ],
      "execution_count": 3,
      "outputs": [
        {
          "output_type": "stream",
          "text": [
            "<class 'numpy.ndarray'>\n",
            "46\n",
            "[ 0.22347202 -0.92038551 -0.5052064  -3.50793109  0.98894961 -1.43996827\n",
            "  1.29918489 -2.44446651 -0.66406514 -1.62671872 -3.8271347  -0.55194847\n",
            " -2.4060334  -1.10855959  1.03605312  4.04300685  0.00791735  0.43416164\n",
            " -1.25290907  0.87788098  1.1354146  -0.71589415 -0.23610922 -1.0681112\n",
            " -0.23672229 -0.40779877 -1.57817398 -1.91850113 -1.69464119 -4.77376236\n",
            " -1.787224   -1.74306764  0.08222825 -0.04381862  0.05447697 -1.96870947\n",
            "  0.55548661 -1.58895646 -0.76496652 -0.03863266 -1.36009382 -0.62224519\n",
            "  0.2969164  -2.21054324 -0.05537788 -1.90287054]\n",
            "-3.0430068486119746\n",
            "<class 'numpy.ndarray'>\n",
            "46\n",
            "[ 2.25939037e-01 -9.23644711e-01 -5.06357837e-01 -3.51335068e+00\n",
            "  9.87271799e-01 -1.44255858e+00  1.30119816e+00 -2.44669160e+00\n",
            " -6.69254761e-01 -1.63000856e+00 -3.83099892e+00 -5.52145729e-01\n",
            " -2.40794130e+00 -1.10973463e+00  1.03486563e+00  4.04804747e+00\n",
            "  4.73124811e-03  4.36107935e-01 -1.25482889e+00  8.75248325e-01\n",
            "  1.13528119e+00 -7.14364108e-01 -2.37772963e-01 -1.06695242e+00\n",
            " -2.36778744e-01 -4.09317458e-01 -1.58288397e+00 -1.91894902e+00\n",
            " -1.69431322e+00 -4.77072194e+00 -1.78625670e+00 -1.74539133e+00\n",
            "  8.33391385e-02 -4.48113495e-02  5.70383552e-02 -1.96931205e+00\n",
            "  5.55726046e-01 -1.59126982e+00 -7.65713886e-01 -3.42077100e-02\n",
            " -1.36115021e+00 -6.23974569e-01  3.00187361e-01 -2.21336727e+00\n",
            " -5.34770707e-02 -1.90495948e+00]\n",
            "-3.0480474674308713\n",
            "<class 'numpy.ndarray'>\n",
            "46\n",
            "[ 2.27507272e-01 -9.26075849e-01 -5.07183921e-01 -3.51579810e+00\n",
            "  9.86576525e-01 -1.44400126e+00  1.30282541e+00 -2.44874079e+00\n",
            " -6.71938184e-01 -1.63183818e+00 -3.83325835e+00 -5.52363614e-01\n",
            " -2.40885877e+00 -1.11066382e+00  1.03334763e+00  4.05117056e+00\n",
            "  2.53655745e-03  4.38020442e-01 -1.25588026e+00  8.73780029e-01\n",
            "  1.13486730e+00 -7.13338277e-01 -2.39819762e-01 -1.06631163e+00\n",
            " -2.37359052e-01 -4.10314029e-01 -1.58668877e+00 -1.91875133e+00\n",
            " -1.69404877e+00 -4.76855121e+00 -1.78563610e+00 -1.74632285e+00\n",
            "  8.43851737e-02 -4.50010518e-02  5.90478865e-02 -1.96878189e+00\n",
            "  5.55845533e-01 -1.59244998e+00 -7.66464990e-01 -3.08808038e-02\n",
            " -1.36113122e+00 -6.24879923e-01  3.03049287e-01 -2.21468910e+00\n",
            " -5.19121552e-02 -1.90561577e+00]\n",
            "-3.0511705580170663\n",
            "<class 'numpy.ndarray'>\n",
            "46\n",
            "[ 2.28315148e-01 -9.28173228e-01 -5.07274438e-01 -3.52149660e+00\n",
            "  9.86061662e-01 -1.44575891e+00  1.30366790e+00 -2.44870950e+00\n",
            " -6.73425637e-01 -1.63142182e+00 -3.83333860e+00 -5.47569796e-01\n",
            " -2.41211534e+00 -1.11223038e+00  1.03211927e+00  4.04772675e+00\n",
            "  1.15773485e-03  4.42041351e-01 -1.26561328e+00  8.77098299e-01\n",
            "  1.13580052e+00 -7.11035505e-01 -2.34564315e-01 -1.06472509e+00\n",
            " -2.32858306e-01 -4.09816622e-01 -1.58405936e+00 -1.91579324e+00\n",
            " -1.69433054e+00 -4.76177344e+00 -1.78805224e+00 -1.74658616e+00\n",
            "  8.58631126e-02 -3.87120602e-02  6.14230468e-02 -1.97099446e+00\n",
            "  5.53131738e-01 -1.59297216e+00 -7.64754142e-01 -3.49534021e-02\n",
            " -1.35832312e+00 -6.28839715e-01  3.05027366e-01 -2.21536501e+00\n",
            " -4.77279951e-02 -1.90289417e+00]\n",
            "-3.0477267548875275\n",
            "<class 'numpy.ndarray'>\n",
            "46\n",
            "[ 2.27650147e-01 -9.25955305e-01 -5.07041287e-01 -3.51601426e+00\n",
            "  9.86460100e-01 -1.44380391e+00  1.30268639e+00 -2.44854020e+00\n",
            " -6.72012923e-01 -1.63181301e+00 -3.83314400e+00 -5.52335725e-01\n",
            " -2.40887714e+00 -1.11066912e+00  1.03347252e+00  4.05130806e+00\n",
            "  2.51621359e-03  4.37942705e-01 -1.25620876e+00  8.73701415e-01\n",
            "  1.13482848e+00 -7.13404390e-01 -2.39629787e-01 -1.06632374e+00\n",
            " -2.37512809e-01 -4.10293386e-01 -1.58655368e+00 -1.91866508e+00\n",
            " -1.69425286e+00 -4.76828797e+00 -1.78568105e+00 -1.74628622e+00\n",
            "  8.43429905e-02 -4.50585552e-02  5.89824271e-02 -1.96885547e+00\n",
            "  5.55819828e-01 -1.59239479e+00 -7.66236254e-01 -3.09411381e-02\n",
            " -1.36130505e+00 -6.24908806e-01  3.02983485e-01 -2.21480901e+00\n",
            " -5.22233316e-02 -1.90580400e+00]\n",
            "-3.0513080634746643\n",
            "<class 'numpy.ndarray'>\n",
            "46\n",
            "[ 0.25787509 -0.9995307  -0.53348934 -3.5737877   1.00196729 -1.51816529\n",
            "  1.30914708 -2.54995427 -0.72423719 -1.64135016 -3.9089519  -0.55755734\n",
            " -2.4607375  -1.14199916  1.01626748  4.02419296 -0.02796488  0.4955121\n",
            " -1.23071825  0.89568969  1.13758765 -0.65714649 -0.26517885 -1.04598635\n",
            " -0.21211372 -0.4220795  -1.65895257 -1.91586571 -1.67067947 -4.76379874\n",
            " -1.79806645 -1.76984552  0.11066377 -0.04846013  0.11402086 -1.99941928\n",
            "  0.54853777 -1.64195907 -0.77280715 -0.03626934 -1.35457289 -0.63804353\n",
            "  0.37024702 -2.23990697 -0.02909909 -1.91617168]\n",
            "-3.0241929636949054\n",
            "<class 'numpy.ndarray'>\n",
            "46\n",
            "[ 0.29344095 -1.11447198 -0.60115618 -3.604135    1.02023431 -1.68391039\n",
            "  1.29944214 -2.76185655 -0.80559183 -1.63868873 -4.04661752 -0.63807622\n",
            " -2.53015503 -1.19611161  0.99964355  3.97453277 -0.04679512  0.55514497\n",
            " -0.99965911  0.91969086  1.11795024 -0.55913006 -0.38618021 -1.0103787\n",
            " -0.21140057 -0.45316246 -1.86522631 -1.94604428 -1.60639743 -4.85973518\n",
            " -1.80133829 -1.81882536  0.13308656 -0.15110654  0.19671509 -2.07037192\n",
            "  0.55111813 -1.74219679 -0.80273464 -0.01988982 -1.36173883 -0.60666176\n",
            "  0.46814762 -2.27139788 -0.02260571 -1.96225606]\n",
            "-2.974532772702208\n",
            "<class 'numpy.ndarray'>\n",
            "46\n",
            "[ 0.34675157 -1.22338553 -0.60230045 -3.62143005  1.11248024 -1.58560164\n",
            "  1.31574987 -2.86605013 -0.81263863 -1.68207761 -4.10823525 -0.68388463\n",
            " -2.563835   -1.21373227  0.99277489  3.93262156 -0.13300634  0.62700277\n",
            " -0.99963646  0.99853586  1.08380803 -0.46505126 -0.44297161 -1.03053829\n",
            " -0.22845903 -0.43948231 -1.95640396 -1.91387041 -1.53349426 -4.80041998\n",
            " -1.75918608 -1.80893591  0.18043679 -0.17601253  0.27778997 -1.97733124\n",
            "  0.62383209 -1.73377381 -0.83444163  0.03665034 -1.38596503 -0.60755694\n",
            "  0.57830372 -2.34291976 -0.11777435 -2.01132212]\n",
            "-2.9326215591771074\n",
            "<class 'numpy.ndarray'>\n",
            "46\n",
            "[ 0.39022752 -1.28510168 -0.64994871 -3.82900358  1.1272595  -1.66643734\n",
            "  1.32959454 -2.9760652  -0.92433771 -1.82193645 -4.28452035 -0.80106461\n",
            " -2.68854515 -1.25414655  1.10319351  3.95973346 -0.22580689  0.61937626\n",
            " -1.00037364  0.97256098  1.14482843 -0.45875359 -0.49443491 -1.10102213\n",
            " -0.24749511 -0.44957172 -2.01362967 -1.96426125 -1.4774562  -4.92886805\n",
            " -1.73667634 -1.87944396  0.10316555 -0.37998334  0.2981507  -2.02169517\n",
            "  0.74873811 -1.81608211 -0.81813053  0.08740978 -1.57572759 -0.5962056\n",
            "  0.59782341 -2.55642143 -0.23947173 -2.18426616]\n",
            "-2.9597334576432073\n",
            "<class 'numpy.ndarray'>\n",
            "46\n",
            "[ 4.09632572e-01 -1.19142748e+00 -6.42828385e-01 -3.98408638e+00\n",
            "  9.99931384e-01 -1.85981761e+00  1.36486085e+00 -3.02240372e+00\n",
            " -1.00002379e+00 -1.90840409e+00 -4.36979876e+00 -9.40113031e-01\n",
            " -2.82412315e+00 -1.36230336e+00  1.19775311e+00  4.16218099e+00\n",
            " -1.49117650e-01  6.10701192e-01 -9.99960042e-01  1.00045864e+00\n",
            "  1.04072018e+00 -5.29848123e-01 -6.51902184e-01 -1.10736630e+00\n",
            " -5.02043116e-01 -4.76310041e-01 -2.41785393e+00 -2.06150366e+00\n",
            " -1.62462717e+00 -5.19731918e+00 -1.81960746e+00 -1.95210976e+00\n",
            "  1.27052314e-03 -5.43666997e-01  3.36513845e-01 -2.19512715e+00\n",
            "  7.36411921e-01 -1.85862471e+00 -8.26364479e-01  1.33507882e-01\n",
            " -1.61626688e+00 -6.68624917e-01  5.83666504e-01 -2.69486716e+00\n",
            " -3.22165232e-01 -2.34908795e+00]\n",
            "-3.162180993775225\n",
            "<class 'numpy.ndarray'>\n",
            "46\n",
            "[ 0.46351991 -1.00024213 -0.88448341 -4.70907063  0.96208433 -1.8433962\n",
            "  1.68386561 -3.49518339 -0.99963015 -2.05849424 -4.80128761 -1.02079814\n",
            " -3.05977389 -1.57489215  1.2409463   3.62198378  0.2549771   1.00030035\n",
            " -0.99977872  1.92523485  1.19602148 -0.94383109 -0.75552608 -1.31916729\n",
            " -1.00004455 -0.64595099 -3.3841206  -2.76957221 -2.28617631 -6.37313845\n",
            " -2.2144544  -1.79677492  0.14208553 -0.77841475  0.68354681 -2.35337109\n",
            "  0.82709143 -1.91979027 -1.00015172 -0.49224883 -1.52306582 -0.72529249\n",
            "  0.65946614 -2.47777268 -0.43840546 -2.50358767]\n",
            "-2.621983775422873\n",
            "0.88\n"
          ],
          "name": "stdout"
        }
      ]
    },
    {
      "cell_type": "code",
      "metadata": {
        "colab": {
          "base_uri": "https://localhost:8080/"
        },
        "id": "zDIYh16OZRio",
        "outputId": "aa48cb4e-490d-4c81-d0b3-3c24011b694f"
      },
      "source": [
        "from sklearn.metrics import accuracy_score\r\n",
        "from sklearn.metrics import precision_score\r\n",
        "from sklearn.metrics import recall_score\r\n",
        "from sklearn.metrics import f1_score\r\n",
        "\r\n",
        "# print(test_labels)\r\n",
        "# print(pred)\r\n",
        "\r\n",
        "print(\"accuracy_score:\",precision_score(test_labels, pred))\r\n",
        "print(\"precision_score:\",precision_score(test_labels, pred))\r\n",
        "print(\"recall_score:\",recall_score(test_labels, pred))\r\n",
        "print(\"f1_score:\",f1_score(test_labels, pred))"
      ],
      "execution_count": 4,
      "outputs": [
        {
          "output_type": "stream",
          "text": [
            "accuracy_score: 0.8333333333333334\n",
            "precision_score: 0.8333333333333334\n",
            "recall_score: 0.7142857142857143\n",
            "f1_score: 0.7692307692307692\n"
          ],
          "name": "stdout"
        }
      ]
    },
    {
      "cell_type": "code",
      "metadata": {
        "colab": {
          "base_uri": "https://localhost:8080/",
          "height": 279
        },
        "id": "lLbswZtodpbp",
        "outputId": "c79c578d-b4a1-4112-8300-256557bdcf31"
      },
      "source": [
        "model.plot_confusion_matrix(test_data,test_labels)"
      ],
      "execution_count": 211,
      "outputs": [
        {
          "output_type": "display_data",
          "data": {
            "image/png": "[encoded data removed]",
            "text/plain": [
              "<Figure size 432x288 with 2 Axes>"
            ]
          },
          "metadata": {
            "tags": [],
            "needs_background": "light"
          }
        }
      ]
    },
    {
      "cell_type": "markdown",
      "metadata": {
        "id": "9sMXSZeF8hjF"
      },
      "source": [
        "# 半监督学习——回归任务"
      ]
    },
    {
      "cell_type": "code",
      "metadata": {
        "colab": {
          "base_uri": "https://localhost:8080/"
        },
        "id": "nx2dujpyjWOb",
        "outputId": "fadc0506-9106-46e2-cf8e-6c76c99b4c0b"
      },
      "source": [
        "import numpy as np\r\n",
        "import random\r\n",
        "from sklearn.metrics import *\r\n",
        "from sklearn import datasets\r\n",
        "from sklearn.metrics import confusion_matrix\r\n",
        "from sklearn.semi_supervised import LabelPropagation\r\n",
        "from sklearn.model_selection import train_test_split\r\n",
        "import matplotlib.pyplot as plt\r\n",
        "\r\n",
        "\r\n",
        "tempArray = np.array(tempArray_Lasso)[:,:]\r\n",
        "print(len(tempArray))\r\n",
        "data = tempArray[:,5:]\r\n",
        "\r\n",
        "labels = np.array(tempArray)[:,3].astype(int)\r\n",
        "\r\n",
        "\r\n",
        "split_num = 19\r\n",
        "\r\n",
        "train_data = tempArray[split_num:,5:]\r\n",
        "# np.save('X.npy',data)\r\n",
        "# np.save('y.npy',labels)\r\n",
        "train_labels = np.array(tempArray)[split_num:,3].astype(int)\r\n",
        "\r\n",
        "# print(data)\r\n",
        "masked_labels = np.array(tempArray)[:,3].astype(int)\r\n",
        "\r\n",
        "# train_X,test_X,train_y,test_y = train_test_split(data,labels,test_size=0.2,random_state=4)\r\n",
        "\r\n",
        "#RUN THE MODEL\r\n",
        "model = LabelPropagation()\r\n",
        "# model.fit(train_X, train_y)\r\n",
        "model.fit(train_data,train_labels)\r\n",
        "pred = np.array(model.predict(data))\r\n",
        "\r\n",
        "# print(labels[masked_labels] == -1)\r\n",
        "\r\n",
        "#SEPARATE PREDICTED SAMPLES\r\n",
        "# labels = np.array(labels[masked_labels != -1]).astype(int)\r\n",
        "# pred = pred[masked_labels != -1]\r\n",
        "\r\n",
        "labels = np.array(tempArray)[:split_num,3].astype(int)\r\n",
        "pred = pred[0:split_num]\r\n",
        "\r\n",
        "print(len(pred))\r\n",
        "print(labels)\r\n",
        "print(pred)\r\n",
        "\r\n",
        "print('Mean squared error: %.2f'\r\n",
        "    % mean_squared_error(labels, pred))\r\n",
        "print('Coefficient of determination: %.2f'\r\n",
        "    % r2_score(labels, pred))\r\n"
      ],
      "execution_count": 279,
      "outputs": [
        {
          "output_type": "stream",
          "text": [
            "138\n",
            "19\n",
            "[18 16 16 20 13 15 11 17 25 22 17 17 16 17 16  8 18 15  8]\n",
            "[19 12 18 20 10 11  7 21 16 25 12 12 16 11 21 12 15 15 12]\n",
            "Mean squared error: 16.84\n",
            "Coefficient of determination: -0.04\n"
          ],
          "name": "stdout"
        }
      ]
    }
  ]
}