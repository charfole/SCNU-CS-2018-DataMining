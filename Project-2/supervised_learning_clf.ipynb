{
  "nbformat": 4,
  "nbformat_minor": 0,
  "metadata": {
    "colab": {
      "name": "supervised learning.ipynb",
      "provenance": [],
      "collapsed_sections": [],
      "toc_visible": true
    },
    "kernelspec": {
      "name": "python3",
      "display_name": "Python 3"
    }
  },
  "cells": [
    {
      "cell_type": "code",
      "metadata": {
        "id": "-uz5pzi4t4X8"
      },
      "source": [
        "import pandas as pd\r\n",
        "import numpy as np\r\n",
        "from sklearn.model_selection import train_test_split\r\n",
        "from sklearn.feature_extraction import DictVectorizer #特征转换器\r\n",
        "from sklearn import tree\r\n",
        "from sklearn.model_selection import train_test_split\r\n",
        "from sklearn.feature_extraction import DictVectorizer\r\n",
        "from sklearn.tree import DecisionTreeClassifier\r\n",
        "from sklearn import preprocessing\r\n",
        "from scipy.stats import kstest,normaltest\r\n",
        "from sklearn.neural_network import MLPRegressor\r\n",
        "import matplotlib.pyplot as plt\r\n",
        "from sklearn.metrics import f1_score,recall_score,precision_score,accuracy_score\r\n",
        "from sklearn.metrics import confusion_matrix,plot_confusion_matrix,roc_curve,auc,plot_roc_curve\r\n",
        "from sklearn.model_selection import cross_val_score\r\n",
        "from sklearn.model_selection import GridSearchCV\r\n",
        "from sklearn.ensemble import *\r\n",
        "from sklearn.neural_network import MLPClassifier\r\n",
        "from sklearn.svm import *\r\n",
        "from sklearn.linear_model import LogisticRegression\r\n",
        "from sklearn.model_selection import *\r\n",
        "from sklearn.ensemble import AdaBoostClassifier\r\n",
        "from itertools import product"
      ],
      "execution_count": null,
      "outputs": []
    },
    {
      "cell_type": "markdown",
      "metadata": {
        "id": "mYMjHKQqwN2F"
      },
      "source": [
        "# load\r\n"
      ]
    },
    {
      "cell_type": "code",
      "metadata": {
        "colab": {
          "base_uri": "https://localhost:8080/"
        },
        "id": "EMAV_GbVnooY",
        "outputId": "7dc70482-b895-478b-8326-7ce67578fe09"
      },
      "source": [
        "from sklearn.ensemble import RandomForestClassifier\n",
        "data = pd.read_excel('./data/分类数据集.xlsx')\n",
        "data.info()"
      ],
      "execution_count": null,
      "outputs": [
        {
          "output_type": "stream",
          "text": [
            "<class 'pandas.core.frame.DataFrame'>\n",
            "RangeIndex: 138 entries, 0 to 137\n",
            "Data columns (total 21 columns):\n",
            " #   Column              Non-Null Count  Dtype  \n",
            "---  ------              --------------  -----  \n",
            " 0   姓名                  138 non-null    object \n",
            " 1   性别                  138 non-null    object \n",
            " 2   年龄                  138 non-null    int64  \n",
            " 3   HAMD评分              92 non-null     float64\n",
            " 4   分类                  92 non-null     float64\n",
            " 5   FP1-A1 α 节律, µV     138 non-null    float64\n",
            " 6   FP2-A2 θ 节律, µV     138 non-null    float64\n",
            " 7   FP2-A2 β(LF)节律, µV  138 non-null    float64\n",
            " 8   C4-A2 θ 节律, µV      138 non-null    float64\n",
            " 9   P3-A1 α 节律, µV      138 non-null    float64\n",
            " 10  P4-A2 α 节律, µV      138 non-null    float64\n",
            " 11  P4-A2 β(LF)节律, µV   138 non-null    float64\n",
            " 12  PZ-A2 β(LF)节律, µV   138 non-null    float64\n",
            " 13  O2-A2 δ 节律,µV       138 non-null    float64\n",
            " 14  F7-A1 δ 节律,µV       138 non-null    float64\n",
            " 15  F8-A2 δ 节律,µV       138 non-null    float64\n",
            " 16  F8-A2 β(LF)节律, µV   138 non-null    float64\n",
            " 17  T3-A1 θ 节律, µV      138 non-null    float64\n",
            " 18  T4-A2 δ 节律,µV       138 non-null    float64\n",
            " 19  T4-A2 θ 节律, µV      138 non-null    float64\n",
            " 20  T5-A1 α 节律, µV      138 non-null    float64\n",
            "dtypes: float64(18), int64(1), object(2)\n",
            "memory usage: 22.8+ KB\n"
          ],
          "name": "stdout"
        }
      ]
    },
    {
      "cell_type": "code",
      "metadata": {
        "id": "j8Cyt-GJW5gl"
      },
      "source": [
        "# data['HAMD评分']=data['HAMD评分'].astype('int')\r\n",
        "# data.info()"
      ],
      "execution_count": null,
      "outputs": []
    },
    {
      "cell_type": "code",
      "metadata": {
        "id": "Kuru2QlMoWLq"
      },
      "source": [
        "X=np.array(data.iloc[:92,5:])\r\n",
        "y=np.array(data.iloc[:92,4]).astype(int)\r\n",
        "# X_train, X_test, y_train, y_test = train_test_split(X, y, test_size=0.3, random_state=0)"
      ],
      "execution_count": null,
      "outputs": []
    },
    {
      "cell_type": "markdown",
      "metadata": {
        "id": "Vmh2Mz70waC6"
      },
      "source": [
        "## RandomForestClassifier原参数"
      ]
    },
    {
      "cell_type": "code",
      "metadata": {
        "id": "m36dhGAnn2Sd"
      },
      "source": [
        "clf = RandomForestClassifier()\r\n",
        "y_pred=cross_val_predict(clf,X,y,cv=10)\r\n",
        "\r\n",
        "print('准确率:',accuracy_score(y,y_pred))\r\n",
        "print('精准率:',precision_score(y,y_pred))\r\n",
        "print('召回率:',recall_score(y,y_pred))\r\n",
        "print('F1:',f1_score(y,y_pred))\r\n",
        "print(confusion_matrix(y,y_pred))\r\n"
      ],
      "execution_count": null,
      "outputs": []
    },
    {
      "cell_type": "markdown",
      "metadata": {
        "id": "crs3XskewpF7"
      },
      "source": [
        "## RandomForestClassifier网格搜索\r\n"
      ]
    },
    {
      "cell_type": "code",
      "metadata": {
        "id": "8PbVcxkrrYi_"
      },
      "source": [
        "# n_estimators\r\n",
        "param_test1 = {\r\n",
        "    'n_estimators':[100,200,300],\r\n",
        "    'max_depth':[2,3,4],\r\n",
        "  },\r\n",
        "best_RF = GridSearchCV(estimator = RandomForestClassifier(), \r\n",
        "                       param_grid = param_test1, scoring='f1',cv=10)\r\n",
        "y_pred=cross_val_predict(clf,X,y,cv=10)\r\n",
        "\r\n",
        "print('准确率:',accuracy_score(y,y_pred))\r\n",
        "print('精准率:',precision_score(y,y_pred))\r\n",
        "print('召回率:',recall_score(y,y_pred))\r\n",
        "print('F1:',f1_score(y,y_pred))\r\n",
        "print(confusion_matrix(y,y_pred))\r\n"
      ],
      "execution_count": null,
      "outputs": []
    },
    {
      "cell_type": "markdown",
      "metadata": {
        "id": "njfNtkj0Af4S"
      },
      "source": [
        "# AdaBoostClassifier原参数"
      ]
    },
    {
      "cell_type": "code",
      "metadata": {
        "id": "OC3ev3lFAeY8"
      },
      "source": [
        "clf = AdaBoostClassifier()\r\n",
        "y_pred=cross_val_predict(clf,X,y,cv=10)\r\n",
        "\r\n",
        "print('准确率:',accuracy_score(y,y_pred))\r\n",
        "print('精准率:',precision_score(y,y_pred))\r\n",
        "print('召回率:',recall_score(y,y_pred))\r\n",
        "print('F1:',f1_score(y,y_pred))\r\n",
        "print(confusion_matrix(y,y_pred))"
      ],
      "execution_count": null,
      "outputs": []
    },
    {
      "cell_type": "markdown",
      "metadata": {
        "id": "JruJoUNdZsj1"
      },
      "source": [
        "# AdaBoostClassifier网格搜索\r\n"
      ]
    },
    {
      "cell_type": "code",
      "metadata": {
        "id": "tPJCmUhGZsBi"
      },
      "source": [
        "param_test1 = {'n_estimators':[50,150,300],'learning_rate':[0.01,0.1,0.5,1.5],},\r\n",
        "best_Ada = GridSearchCV(estimator = AdaBoostClassifier(DecisionTreeClassifier()),param_grid = param_test1, scoring='f1',cv=10)\r\n",
        "y_pred=cross_val_predict(best_Ada,X,y,cv=10)\r\n",
        "\r\n",
        "print('准确率:',accuracy_score(y,y_pred))\r\n",
        "print('精准率:',precision_score(y,y_pred))\r\n",
        "print('召回率:',recall_score(y,y_pred))\r\n",
        "print('F1:',f1_score(y,y_pred))\r\n",
        "print(confusion_matrix(y,y_pred))"
      ],
      "execution_count": null,
      "outputs": []
    },
    {
      "cell_type": "markdown",
      "metadata": {
        "id": "f73wQQhIaRYe"
      },
      "source": [
        "# GBDT原参数"
      ]
    },
    {
      "cell_type": "code",
      "metadata": {
        "id": "r5UMM_d4Z8BU"
      },
      "source": [
        "clf = GradientBoostingClassifier(random_state=10)\r\n",
        "y_pred=cross_val_predict(clf,X,y,cv=10)\r\n",
        "\r\n",
        "print('准确率:',accuracy_score(y,y_pred))\r\n",
        "print('精准率:',precision_score(y,y_pred))\r\n",
        "print('召回率:',recall_score(y,y_pred))\r\n",
        "print('F1:',f1_score(y,y_pred))\r\n",
        "print(confusion_matrix(y,y_pred))"
      ],
      "execution_count": null,
      "outputs": []
    },
    {
      "cell_type": "markdown",
      "metadata": {
        "id": "F0fvxuoJaud6"
      },
      "source": [
        "# GBDT网格搜索"
      ]
    },
    {
      "cell_type": "code",
      "metadata": {
        "id": "5dZhPg7Eat9-"
      },
      "source": [
        "param_test1 = {\r\n",
        "    'n_estimators':[150,200,300,400],\r\n",
        "    'learning_rate':[0.05,0.1,0.5,1],\r\n",
        "  },\r\n",
        "best_GBDT = GridSearchCV(estimator = GradientBoostingClassifier(random_state=10), \r\n",
        "                       param_grid = param_test1, scoring='f1',cv=10)\r\n",
        "y_pred=cross_val_predict(best_GBDT,X,y,cv=10)\r\n",
        "\r\n",
        "print('准确率:',accuracy_score(y,y_pred))\r\n",
        "print('精准率:',precision_score(y,y_pred))\r\n",
        "print('召回率:',recall_score(y,y_pred))\r\n",
        "print('F1:',f1_score(y,y_pred))\r\n",
        "print(confusion_matrix(y,y_pred))"
      ],
      "execution_count": null,
      "outputs": []
    },
    {
      "cell_type": "markdown",
      "metadata": {
        "id": "XT-ODQeDcBGL"
      },
      "source": [
        "# LR原参数"
      ]
    },
    {
      "cell_type": "code",
      "metadata": {
        "id": "TbB0UKsJb46y"
      },
      "source": [
        "LR=LogisticRegression()\r\n",
        "y_pred=cross_val_predict(LR,X,y,cv=10)\r\n",
        "\r\n",
        "print('准确率:',accuracy_score(y,y_pred))\r\n",
        "print('精准率:',precision_score(y,y_pred))\r\n",
        "print('召回率:',recall_score(y,y_pred))\r\n",
        "print('F1:',f1_score(y,y_pred))\r\n",
        "print(confusion_matrix(y,y_pred))"
      ],
      "execution_count": null,
      "outputs": []
    },
    {
      "cell_type": "code",
      "metadata": {
        "id": "1YiY7miznOo2"
      },
      "source": [
        "\r\n",
        "eclf = VotingClassifier(estimators=[('RF',best_RF), ('Ada', best_Ada),('GBDT',best_GBDT),('LR',LR)],\r\n",
        "                        voting='hard')\r\n",
        "eclf.fit(X_train, y_train)\r\n",
        "y_pred=eclf.predict(X_test)\r\n",
        "\r\n",
        "print('准确率:',accuracy_score(y_test,y_pred))\r\n",
        "print('精准率:',precision_score(y_test,y_pred))\r\n",
        "print('召回率:',recall_score(y_test,y_pred))\r\n",
        "print('F1:',f1_score(y_test,y_pred))\r\n",
        "plot_confusion_matrix(eclf,X_test,y_test)\r\n",
        "plt.show()\r\n"
      ],
      "execution_count": null,
      "outputs": []
    },
    {
      "cell_type": "code",
      "metadata": {
        "id": "5lCfLczbgfAI"
      },
      "source": [
        "X_train, X_test, y_train, y_test = train_test_split(X, y, test_size=0.3,)\r\n",
        "clf = GradientBoostingClassifier()\r\n",
        "clf.fit(X_train, y_train)\r\n",
        "y_pred=clf.predict(X_test)\r\n",
        "\r\n",
        "print('准确率:',accuracy_score(y_test,y_pred))\r\n",
        "print('精准率:',precision_score(y_test,y_pred))\r\n",
        "print('召回率:',recall_score(y_test,y_pred))\r\n",
        "print('F1:',f1_score(y_test,y_pred))\r\n",
        "plot_confusion_matrix(clf,X_test,y_test)\r\n",
        "plt.show()"
      ],
      "execution_count": null,
      "outputs": []
    },
    {
      "cell_type": "code",
      "metadata": {
        "id": "dlAkjV-sge8T"
      },
      "source": [
        "print('准确率:',accuracy_score(y_test,y_pred))\r\n"
      ],
      "execution_count": null,
      "outputs": []
    }
  ]
}